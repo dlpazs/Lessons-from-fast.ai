{
  "nbformat": 4,
  "nbformat_minor": 0,
  "metadata": {
    "colab": {
      "name": "fastaiMLsgd.ipynb",
      "version": "0.3.2",
      "provenance": [],
      "collapsed_sections": [],
      "include_colab_link": true
    },
    "kernelspec": {
      "name": "python3",
      "display_name": "Python 3"
    },
    "accelerator": "GPU"
  },
  "cells": [
    {
      "cell_type": "markdown",
      "metadata": {
        "id": "view-in-github",
        "colab_type": "text"
      },
      "source": [
        "<a href=\"https://colab.research.google.com/github/paruliansaragi/cnn-fastai/blob/master/fastaiMLsgd.ipynb\" target=\"_parent\"><img src=\"https://colab.research.google.com/assets/colab-badge.svg\" alt=\"Open In Colab\"/></a>"
      ]
    },
    {
      "cell_type": "code",
      "metadata": {
        "id": "I0ELYJ_fPkxr",
        "colab_type": "code",
        "colab": {}
      },
      "source": [
        "!pip install fastai==0.7.0\n",
        "!pip install torchtext==0.2.3"
      ],
      "execution_count": 0,
      "outputs": []
    },
    {
      "cell_type": "code",
      "metadata": {
        "id": "qVJOY-s0Pffe",
        "colab_type": "code",
        "colab": {}
      },
      "source": [
        "%load_ext autoreload\n",
        "%autoreload 2\n",
        "%matplotlib inline"
      ],
      "execution_count": 0,
      "outputs": []
    },
    {
      "cell_type": "code",
      "metadata": {
        "id": "2w3i6TBJPjeD",
        "colab_type": "code",
        "colab": {}
      },
      "source": [
        "from fastai.imports import *\n",
        "from fastai.torch_imports import *\n",
        "from fastai.io import *"
      ],
      "execution_count": 0,
      "outputs": []
    },
    {
      "cell_type": "code",
      "metadata": {
        "id": "JGpfbfj2PsjR",
        "colab_type": "code",
        "colab": {}
      },
      "source": [
        "path = 'data/mnist/'"
      ],
      "execution_count": 0,
      "outputs": []
    },
    {
      "cell_type": "code",
      "metadata": {
        "id": "eXRx55tXPwV3",
        "colab_type": "code",
        "colab": {}
      },
      "source": [
        "import os\n",
        "os.makedirs(path, exist_ok=True)"
      ],
      "execution_count": 0,
      "outputs": []
    },
    {
      "cell_type": "code",
      "metadata": {
        "id": "IqiUrUffPyhQ",
        "colab_type": "code",
        "colab": {}
      },
      "source": [
        "URL='http://deeplearning.net/data/mnist/'\n",
        "FILENAME='mnist.pkl.gz'\n",
        "\n",
        "def load_mnist(filename):\n",
        "    return pickle.load(gzip.open(filename, 'rb'), encoding='latin-1')"
      ],
      "execution_count": 0,
      "outputs": []
    },
    {
      "cell_type": "code",
      "metadata": {
        "id": "BOlAr7-UP2vo",
        "colab_type": "code",
        "outputId": "33fd3b93-1ac8-4eab-a86d-71e8b247147e",
        "colab": {
          "base_uri": "https://localhost:8080/",
          "height": 35
        }
      },
      "source": [
        "get_data(URL+FILENAME, path+FILENAME)\n",
        "((x, y), (x_valid, y_valid), _) = load_mnist(path+FILENAME)"
      ],
      "execution_count": 0,
      "outputs": [
        {
          "output_type": "stream",
          "text": [
            "mnist.pkl.gz: 16.2MB [00:03, 4.21MB/s]                            \n"
          ],
          "name": "stderr"
        }
      ]
    },
    {
      "cell_type": "code",
      "metadata": {
        "id": "tw6dgLKdP7xi",
        "colab_type": "code",
        "outputId": "ee920541-5378-4055-8f21-e56d3f5ef9ba",
        "colab": {
          "base_uri": "https://localhost:8080/",
          "height": 35
        }
      },
      "source": [
        "type(x), x.shape, type(y), y.shape"
      ],
      "execution_count": 0,
      "outputs": [
        {
          "output_type": "execute_result",
          "data": {
            "text/plain": [
              "(numpy.ndarray, (50000, 784), numpy.ndarray, (50000,))"
            ]
          },
          "metadata": {
            "tags": []
          },
          "execution_count": 8
        }
      ]
    },
    {
      "cell_type": "code",
      "metadata": {
        "id": "FA7u_oyhQC9k",
        "colab_type": "code",
        "outputId": "df0b5266-3ed9-42bd-f737-9d1d7f121a5f",
        "colab": {
          "base_uri": "https://localhost:8080/",
          "height": 35
        }
      },
      "source": [
        "'''\n",
        "Many machine learning algorithms behave better when the data is normalized, \n",
        "that is when the mean is 0 and the standard deviation is 1. \n",
        "We will subtract off the mean and standard deviation from our training set in \n",
        "order to normalize the data:\n",
        "'''\n",
        "\n",
        "mean = x.mean()\n",
        "std = x.std()\n",
        "\n",
        "x=(x-mean)/std\n",
        "mean, std, x.mean(), x.std()"
      ],
      "execution_count": 0,
      "outputs": [
        {
          "output_type": "execute_result",
          "data": {
            "text/plain": [
              "(0.13044983, 0.3072898, -3.1638146e-07, 0.99999934)"
            ]
          },
          "metadata": {
            "tags": []
          },
          "execution_count": 9
        }
      ]
    },
    {
      "cell_type": "code",
      "metadata": {
        "id": "BptEMMGoQY_I",
        "colab_type": "code",
        "outputId": "367d5f00-7157-4b44-f393-62b0f70c58ba",
        "colab": {
          "base_uri": "https://localhost:8080/",
          "height": 35
        }
      },
      "source": [
        "'''\n",
        "Note that for consistency (with the parameters we learn when training),\n",
        "we subtract the mean and standard deviation of our training set from our validation set.\n",
        "'''\n",
        "\n",
        "x_valid = (x_valid-mean)/std\n",
        "x_valid.mean(), x_valid.std()"
      ],
      "execution_count": 0,
      "outputs": [
        {
          "output_type": "execute_result",
          "data": {
            "text/plain": [
              "(-0.005850922, 0.99243325)"
            ]
          },
          "metadata": {
            "tags": []
          },
          "execution_count": 10
        }
      ]
    },
    {
      "cell_type": "code",
      "metadata": {
        "id": "V6k6ptvtQjvm",
        "colab_type": "code",
        "colab": {}
      },
      "source": [
        "def show(img, title=None):\n",
        "    plt.imshow(img, cmap=\"gray\")\n",
        "    if title is not None: plt.title(title)"
      ],
      "execution_count": 0,
      "outputs": []
    },
    {
      "cell_type": "code",
      "metadata": {
        "id": "TqOsFMkfQzS0",
        "colab_type": "code",
        "colab": {}
      },
      "source": [
        "def plots(ims, figsize=(12,6), rows=2, titles=None):\n",
        "    f = plt.figure(figsize=figsize)\n",
        "    cols = len(ims)//rows\n",
        "    for i in range(len(ims)):\n",
        "        sp = f.add_subplot(rows, cols, i+1)\n",
        "        sp.axis('Off')\n",
        "        if titles is not None: sp.set_title(titles[i], fontsize=16)\n",
        "        plt.imshow(ims[i], cmap='gray')"
      ],
      "execution_count": 0,
      "outputs": []
    },
    {
      "cell_type": "code",
      "metadata": {
        "id": "Z6bVbYooQ3w2",
        "colab_type": "code",
        "outputId": "bcee2918-a58a-4785-eeb4-31520711c432",
        "colab": {
          "base_uri": "https://localhost:8080/",
          "height": 35
        }
      },
      "source": [
        "x_valid.shape\n"
      ],
      "execution_count": 0,
      "outputs": [
        {
          "output_type": "execute_result",
          "data": {
            "text/plain": [
              "(10000, 784)"
            ]
          },
          "metadata": {
            "tags": []
          },
          "execution_count": 13
        }
      ]
    },
    {
      "cell_type": "code",
      "metadata": {
        "id": "RTCnRhoeQ5so",
        "colab_type": "code",
        "outputId": "f205db8a-46c0-4971-9747-464edf90595e",
        "colab": {
          "base_uri": "https://localhost:8080/",
          "height": 35
        }
      },
      "source": [
        "x_imgs = np.reshape(x_valid, (-1,28,28)); x_imgs.shape"
      ],
      "execution_count": 0,
      "outputs": [
        {
          "output_type": "execute_result",
          "data": {
            "text/plain": [
              "(10000, 28, 28)"
            ]
          },
          "metadata": {
            "tags": []
          },
          "execution_count": 14
        }
      ]
    },
    {
      "cell_type": "code",
      "metadata": {
        "id": "npMAL8o_Q-aK",
        "colab_type": "code",
        "outputId": "d02e9068-5738-4b78-ddbc-014bd478caa2",
        "colab": {
          "base_uri": "https://localhost:8080/",
          "height": 281
        }
      },
      "source": [
        "show(x_imgs[0], y_valid[0])"
      ],
      "execution_count": 0,
      "outputs": [
        {
          "output_type": "display_data",
          "data": {
            "image/png": "[encoded data removed]",
            "text/plain": [
              "<matplotlib.figure.Figure at 0x7fcddc555fd0>"
            ]
          },
          "metadata": {
            "tags": []
          }
        }
      ]
    },
    {
      "cell_type": "code",
      "metadata": {
        "id": "h_4S_zZaRAB9",
        "colab_type": "code",
        "outputId": "3db9c36b-b777-44f0-baae-8171409f2cfc",
        "colab": {
          "base_uri": "https://localhost:8080/",
          "height": 35
        }
      },
      "source": [
        "y_valid.shape, y_valid[0]"
      ],
      "execution_count": 0,
      "outputs": [
        {
          "output_type": "execute_result",
          "data": {
            "text/plain": [
              "((10000,), 3)"
            ]
          },
          "metadata": {
            "tags": []
          },
          "execution_count": 16
        }
      ]
    },
    {
      "cell_type": "code",
      "metadata": {
        "id": "YVO2F1lDREPx",
        "colab_type": "code",
        "outputId": "c518cb12-c750-46d5-c5aa-b08c297bfa21",
        "colab": {
          "base_uri": "https://localhost:8080/",
          "height": 104
        }
      },
      "source": [
        "x_imgs[0,10:15,10:15]"
      ],
      "execution_count": 0,
      "outputs": [
        {
          "output_type": "execute_result",
          "data": {
            "text/plain": [
              "array([[-0.42452, -0.42452, -0.42452, -0.42452,  0.17294],\n",
              "       [-0.42452, -0.42452, -0.42452,  0.78312,  2.43567],\n",
              "       [-0.42452, -0.27197,  1.20261,  2.77889,  2.80432],\n",
              "       [-0.42452,  1.76194,  2.80432,  2.80432,  1.73651],\n",
              "       [-0.42452,  2.20685,  2.80432,  2.80432,  0.40176]], dtype=float32)"
            ]
          },
          "metadata": {
            "tags": []
          },
          "execution_count": 17
        }
      ]
    },
    {
      "cell_type": "code",
      "metadata": {
        "id": "0W0GLmRYRHSf",
        "colab_type": "code",
        "outputId": "76e6ea4c-882f-40fb-f7fa-c850b03ee1d0",
        "colab": {
          "base_uri": "https://localhost:8080/",
          "height": 265
        }
      },
      "source": [
        "show(x_imgs[0,10:15,10:15])"
      ],
      "execution_count": 0,
      "outputs": [
        {
          "output_type": "display_data",
          "data": {
            "image/png": "[encoded data removed]",
            "text/plain": [
              "<matplotlib.figure.Figure at 0x7fcddcdb1f98>"
            ]
          },
          "metadata": {
            "tags": []
          }
        }
      ]
    },
    {
      "cell_type": "code",
      "metadata": {
        "id": "JQmJZRYtRKzv",
        "colab_type": "code",
        "colab": {}
      },
      "source": [
        "from fastai.metrics import *\n",
        "from fastai.model import *\n",
        "from fastai.dataset import *\n",
        "\n",
        "import torch.nn as nn"
      ],
      "execution_count": 0,
      "outputs": []
    },
    {
      "cell_type": "code",
      "metadata": {
        "id": "64UCQQmDTeVa",
        "colab_type": "code",
        "colab": {}
      },
      "source": [
        "net = nn.Sequential(\n",
        "    nn.Linear(28*28, 100),#28x28 input pixels\n",
        "    nn.ReLU(),\n",
        "    nn.Linear(100, 100),\n",
        "    nn.ReLU(),\n",
        "    nn.Linear(100, 10),#10 output classes\n",
        "    nn.LogSoftmax()\n",
        ").cuda()"
      ],
      "execution_count": 0,
      "outputs": []
    },
    {
      "cell_type": "code",
      "metadata": {
        "id": "mt6cnQdvuQJk",
        "colab_type": "code",
        "colab": {}
      },
      "source": [
        "md = ImageClassifierData.from_arrays(path, (x,y), (x_valid, y_valid))"
      ],
      "execution_count": 0,
      "outputs": []
    },
    {
      "cell_type": "code",
      "metadata": {
        "id": "yqFFPKD8wmbg",
        "colab_type": "code",
        "colab": {}
      },
      "source": [
        "loss = nn.NLLLoss()\n",
        "metrics=[accuracy]\n",
        "opt=optim.SGD(net.parameters(), 1e-1, momentum=0.9, weight_decay=1e-3)\n",
        "'''\n",
        "The loss associated with one example in binary classification is given by: \n",
        "-(y * log(p) + (1-y) * log (1-p)) where y is the true label of x and p is \n",
        "the probability predicted by our model that the label is 1.\n",
        "'''"
      ],
      "execution_count": 0,
      "outputs": []
    },
    {
      "cell_type": "code",
      "metadata": {
        "id": "8360lfAAw91C",
        "colab_type": "code",
        "colab": {}
      },
      "source": [
        "def binary_loss(y, p):\n",
        "  return np.mean(-(y * np.log(p) + (1-y)*np.log(1-p)))\n",
        "#if y is 0 then -np.log(probability)\n",
        "#else then -np.log(1-probability)"
      ],
      "execution_count": 0,
      "outputs": []
    },
    {
      "cell_type": "code",
      "metadata": {
        "id": "5zvtpdt3xqy3",
        "colab_type": "code",
        "outputId": "e118f034-b793-4c28-a280-773143f99fba",
        "colab": {
          "base_uri": "https://localhost:8080/",
          "height": 35
        }
      },
      "source": [
        "acts = np.array([1, 0, 0, 1])\n",
        "preds = np.array([0.9999, 0.0001, 0.00001, 0.999])\n",
        "binary_loss(acts, preds)"
      ],
      "execution_count": 0,
      "outputs": [
        {
          "output_type": "execute_result",
          "data": {
            "text/plain": [
              "0.0003026275960626292"
            ]
          },
          "metadata": {
            "tags": []
          },
          "execution_count": 36
        }
      ]
    },
    {
      "cell_type": "code",
      "metadata": {
        "id": "I4gIpP_Px9au",
        "colab_type": "code",
        "outputId": "9a571195-dc78-4396-97d5-630f1086373e",
        "colab": {
          "base_uri": "https://localhost:8080/",
          "height": 35
        }
      },
      "source": [
        "bl = -(np.log(0.9))\n",
        "bl2 = -(np.log(1-0.9))\n",
        "bl, bl2"
      ],
      "execution_count": 0,
      "outputs": [
        {
          "output_type": "execute_result",
          "data": {
            "text/plain": [
              "(0.10536051565782628, 2.302585092994046)"
            ]
          },
          "metadata": {
            "tags": []
          },
          "execution_count": 40
        }
      ]
    },
    {
      "cell_type": "code",
      "metadata": {
        "id": "nhBTiIvayjbM",
        "colab_type": "code",
        "outputId": "3765e476-33c4-4a1f-9e15-2be7e0bb2a27",
        "colab": {
          "base_uri": "https://localhost:8080/",
          "height": 193
        }
      },
      "source": [
        "#Fitting is the process by which the neural net learns the best parameters for the dataset.\n",
        "fit(net, md, n_epochs=5, crit=loss, opt=opt, metrics=metrics)"
      ],
      "execution_count": 0,
      "outputs": [
        {
          "output_type": "display_data",
          "data": {
            "application/vnd.jupyter.widget-view+json": {
              "model_id": "cb59b78746c74e27b54588475b502817",
              "version_minor": 0,
              "version_major": 2
            },
            "text/plain": [
              "HBox(children=(IntProgress(value=0, description='Epoch', max=5, style=ProgressStyle(description_width='initial…"
            ]
          },
          "metadata": {
            "tags": []
          }
        },
        {
          "output_type": "stream",
          "text": [
            "epoch      trn_loss   val_loss   accuracy   \n",
            "    0      0.255265   0.307683   0.9141    \n",
            "    1      0.226696   0.207078   0.9438    \n",
            "    2      0.21991    0.193045   0.9443    \n",
            "    3      0.20209    0.183521   0.9529    \n",
            "    4      0.213863   0.187712   0.9478    \n",
            "\n"
          ],
          "name": "stdout"
        },
        {
          "output_type": "execute_result",
          "data": {
            "text/plain": [
              "[array([0.18771]), 0.9478]"
            ]
          },
          "metadata": {
            "tags": []
          },
          "execution_count": 41
        }
      ]
    },
    {
      "cell_type": "code",
      "metadata": {
        "id": "yRQiOSsY0pZ4",
        "colab_type": "code",
        "colab": {}
      },
      "source": [
        "set_lrs(opt, 1e-2)"
      ],
      "execution_count": 0,
      "outputs": []
    },
    {
      "cell_type": "code",
      "metadata": {
        "id": "HaVL71S00zHS",
        "colab_type": "code",
        "outputId": "3ca21f8e-e07c-40a4-b250-f4c99d05fcd6",
        "colab": {
          "base_uri": "https://localhost:8080/",
          "height": 159
        }
      },
      "source": [
        "fit(net, md, n_epochs=3, crit=loss, opt=opt, metrics=metrics)"
      ],
      "execution_count": 0,
      "outputs": [
        {
          "output_type": "display_data",
          "data": {
            "application/vnd.jupyter.widget-view+json": {
              "model_id": "30cb19ad6c04418a9f5823f841a06bdc",
              "version_minor": 0,
              "version_major": 2
            },
            "text/plain": [
              "HBox(children=(IntProgress(value=0, description='Epoch', max=3, style=ProgressStyle(description_width='initial…"
            ]
          },
          "metadata": {
            "tags": []
          }
        },
        {
          "output_type": "stream",
          "text": [
            "epoch      trn_loss   val_loss   accuracy   \n",
            "    0      0.061718   0.088001   0.9749    \n",
            "    1      0.057386   0.086295   0.9732    \n",
            "    2      0.047935   0.076782   0.9776    \n",
            "\n"
          ],
          "name": "stdout"
        },
        {
          "output_type": "execute_result",
          "data": {
            "text/plain": [
              "[array([0.07678]), 0.9776]"
            ]
          },
          "metadata": {
            "tags": []
          },
          "execution_count": 44
        }
      ]
    },
    {
      "cell_type": "code",
      "metadata": {
        "id": "dbp7TgXf04sR",
        "colab_type": "code",
        "outputId": "6da3a5f2-77da-4a7f-dfd3-b61eb85b64fb",
        "colab": {
          "base_uri": "https://localhost:8080/",
          "height": 193
        }
      },
      "source": [
        "fit(net, md, n_epochs=5, crit=loss, opt=opt, metrics=metrics)"
      ],
      "execution_count": 0,
      "outputs": [
        {
          "output_type": "display_data",
          "data": {
            "application/vnd.jupyter.widget-view+json": {
              "model_id": "863165cf5ab347b189a3195fd6d8f0b1",
              "version_minor": 0,
              "version_major": 2
            },
            "text/plain": [
              "HBox(children=(IntProgress(value=0, description='Epoch', max=5, style=ProgressStyle(description_width='initial…"
            ]
          },
          "metadata": {
            "tags": []
          }
        },
        {
          "output_type": "stream",
          "text": [
            "epoch      trn_loss   val_loss   accuracy   \n",
            "    0      0.038313   0.075278   0.9771    \n",
            "    1      0.03841    0.072287   0.978     \n",
            "    2      0.035411   0.070347   0.978     \n",
            "    3      0.030705   0.070149   0.9788    \n",
            "    4      0.0303     0.071515   0.9783    \n",
            "\n"
          ],
          "name": "stdout"
        },
        {
          "output_type": "execute_result",
          "data": {
            "text/plain": [
              "[array([0.07152]), 0.9783]"
            ]
          },
          "metadata": {
            "tags": []
          },
          "execution_count": 45
        }
      ]
    },
    {
      "cell_type": "code",
      "metadata": {
        "id": "fTcpHUTH1DZ2",
        "colab_type": "code",
        "colab": {}
      },
      "source": [
        "set_lrs(opt, 1e-2)"
      ],
      "execution_count": 0,
      "outputs": []
    },
    {
      "cell_type": "code",
      "metadata": {
        "id": "iYzaYByP1Oml",
        "colab_type": "code",
        "outputId": "4aaacd6c-d45f-40bf-e8df-6c1c34ed0eef",
        "colab": {
          "base_uri": "https://localhost:8080/",
          "height": 159
        }
      },
      "source": [
        "fit(net, md, n_epochs=3, crit=loss, opt=opt, metrics=metrics)"
      ],
      "execution_count": 0,
      "outputs": [
        {
          "output_type": "display_data",
          "data": {
            "application/vnd.jupyter.widget-view+json": {
              "model_id": "1d5e22e2089c46f6aaa27debe23de8de",
              "version_minor": 0,
              "version_major": 2
            },
            "text/plain": [
              "HBox(children=(IntProgress(value=0, description='Epoch', max=3, style=ProgressStyle(description_width='initial…"
            ]
          },
          "metadata": {
            "tags": []
          }
        },
        {
          "output_type": "stream",
          "text": [
            "epoch      trn_loss   val_loss   accuracy   \n",
            "    0      0.030624   0.071083   0.9774    \n",
            "    1      0.031629   0.07078    0.9779    \n",
            "    2      0.025395   0.070794   0.9783    \n",
            "\n"
          ],
          "name": "stdout"
        },
        {
          "output_type": "execute_result",
          "data": {
            "text/plain": [
              "[array([0.07079]), 0.9783]"
            ]
          },
          "metadata": {
            "tags": []
          },
          "execution_count": 47
        }
      ]
    },
    {
      "cell_type": "code",
      "metadata": {
        "id": "a6-lNRId1TjA",
        "colab_type": "code",
        "outputId": "670240d8-e0af-4dfd-e332-9904aca1aa28",
        "colab": {
          "base_uri": "https://localhost:8080/",
          "height": 35
        }
      },
      "source": [
        "t = [o.numel() for o in net.parameters()]\n",
        "t, sum(t)"
      ],
      "execution_count": 0,
      "outputs": [
        {
          "output_type": "execute_result",
          "data": {
            "text/plain": [
              "([78400, 100, 10000, 100, 1000, 10], 89610)"
            ]
          },
          "metadata": {
            "tags": []
          },
          "execution_count": 48
        }
      ]
    },
    {
      "cell_type": "code",
      "metadata": {
        "id": "rn84qQs-13OP",
        "colab_type": "code",
        "colab": {}
      },
      "source": [
        "'''\n",
        "GPUs are great at handling lots of data at once (otherwise don't get performance benefit). \n",
        "We break the data up into batches, and that specifies how many samples from our dataset \n",
        "we want to send to the GPU at a time. The fastai library defaults to a batch size of 64. \n",
        "On each iteration of the training loop, the error on 1 batch of data will be calculated, \n",
        "and the optimizer will update the parameters based on that.\n",
        "\n",
        "An epoch is completed once each data sample has been used once in the training loop.\n",
        "\n",
        "Now that we have the parameters for our model, we can make predictions on our validation set.\n",
        "'''\n",
        "preds = predict(net, md.val_dl)"
      ],
      "execution_count": 0,
      "outputs": []
    },
    {
      "cell_type": "code",
      "metadata": {
        "id": "SpILhF8g2uI7",
        "colab_type": "code",
        "outputId": "4abf2644-8977-4a52-cb47-09544610d70c",
        "colab": {
          "base_uri": "https://localhost:8080/",
          "height": 35
        }
      },
      "source": [
        "preds.shape"
      ],
      "execution_count": 0,
      "outputs": [
        {
          "output_type": "execute_result",
          "data": {
            "text/plain": [
              "(10000, 10)"
            ]
          },
          "metadata": {
            "tags": []
          },
          "execution_count": 50
        }
      ]
    },
    {
      "cell_type": "code",
      "metadata": {
        "id": "A0lmIQgH2v7L",
        "colab_type": "code",
        "outputId": "16803c49-3c47-4dea-c23b-6f488104c326",
        "colab": {
          "base_uri": "https://localhost:8080/",
          "height": 35
        }
      },
      "source": [
        "preds.argmax(axis=1)[:5]"
      ],
      "execution_count": 0,
      "outputs": [
        {
          "output_type": "execute_result",
          "data": {
            "text/plain": [
              "array([3, 8, 6, 9, 6])"
            ]
          },
          "metadata": {
            "tags": []
          },
          "execution_count": 52
        }
      ]
    },
    {
      "cell_type": "code",
      "metadata": {
        "id": "B_0lW36924EY",
        "colab_type": "code",
        "colab": {}
      },
      "source": [
        "preds = preds.argmax(1)"
      ],
      "execution_count": 0,
      "outputs": []
    },
    {
      "cell_type": "code",
      "metadata": {
        "id": "pAzNqYxT3hoA",
        "colab_type": "code",
        "outputId": "43b6335a-a8c7-4368-91f6-96cde812f399",
        "colab": {
          "base_uri": "https://localhost:8080/",
          "height": 35
        }
      },
      "source": [
        "preds"
      ],
      "execution_count": 0,
      "outputs": [
        {
          "output_type": "execute_result",
          "data": {
            "text/plain": [
              "array([3, 8, 6, ..., 5, 6, 8])"
            ]
          },
          "metadata": {
            "tags": []
          },
          "execution_count": 56
        }
      ]
    },
    {
      "cell_type": "code",
      "metadata": {
        "id": "_a_-AxAV3k9l",
        "colab_type": "code",
        "outputId": "5cf7a9f2-e074-45bc-ddec-2a2032bb2086",
        "colab": {
          "base_uri": "https://localhost:8080/",
          "height": 35
        }
      },
      "source": [
        "np.mean(preds == y_valid)"
      ],
      "execution_count": 0,
      "outputs": [
        {
          "output_type": "execute_result",
          "data": {
            "text/plain": [
              "0.9783"
            ]
          },
          "metadata": {
            "tags": []
          },
          "execution_count": 57
        }
      ]
    },
    {
      "cell_type": "code",
      "metadata": {
        "id": "rap1ppeh3p-q",
        "colab_type": "code",
        "outputId": "fdfc8844-f00b-4310-face-a185eca25391",
        "colab": {
          "base_uri": "https://localhost:8080/",
          "height": 389
        }
      },
      "source": [
        "plots(x_imgs[:8], titles=preds[:8])"
      ],
      "execution_count": 0,
      "outputs": [
        {
          "output_type": "display_data",
          "data": {
            "image/png": "[encoded data removed]",
            "text/plain": [
              "<matplotlib.figure.Figure at 0x7fcdd870c240>"
            ]
          },
          "metadata": {
            "tags": []
          }
        }
      ]
    },
    {
      "cell_type": "code",
      "metadata": {
        "id": "Sqx4vArx3vkp",
        "colab_type": "code",
        "colab": {}
      },
      "source": [
        "def get_weights(*dims): return nn.Parameter(torch.randn(dims)/dims[0])\n",
        "def softmax(x): return torch.exp(x)/(torch.exp(x).sum(dim=1)[:,None])\n",
        "'''\n",
        "Our PyTorch class needs two things: constructor (says what the parameters are) \n",
        "and a forward method (how to calculate a prediction using those parameters) \n",
        "The method forward describes how the neural net converts inputs to outputs.\n",
        "\n",
        "In PyTorch, the optimizer knows to try to optimize any attribute of type Parameter.\n",
        "'''\n",
        "class LogReg(nn.Module):\n",
        "  def __init__(self):\n",
        "    super().__init__()\n",
        "    self.l1_w = get_weights(28 * 28, 10)#layer 1 weights\n",
        "    self.l1_b = get_weights(10)# layer 1 bias\n",
        "#Just as Numpy has np.matmul for matrix multiplication \n",
        "#(in Python 3, this is equivalent to the @ operator), PyTorch has torch.matmul.\n",
        "  def forward(self, x):\n",
        "    x = x.view(x.size(0), -1)\n",
        "    x = (x @ self.l1_w) + self.l1_b #linear layer\n",
        "    #x = torch.matmul(x, self.l1_w) + self.l1_b\n",
        "    x = torch.log(softmax(x))\n",
        "    return x"
      ],
      "execution_count": 0,
      "outputs": []
    },
    {
      "cell_type": "code",
      "metadata": {
        "id": "LZRpjcgv6gMB",
        "colab_type": "code",
        "colab": {}
      },
      "source": [
        "net2 = LogReg().cuda()\n",
        "opt=optim.Adam(net2.parameters())"
      ],
      "execution_count": 0,
      "outputs": []
    },
    {
      "cell_type": "code",
      "metadata": {
        "id": "Sa7j6KYi6p5V",
        "colab_type": "code",
        "outputId": "30bceafe-b09a-46b2-9e56-608be362b759",
        "colab": {
          "base_uri": "https://localhost:8080/",
          "height": 124
        }
      },
      "source": [
        "fit(net2, md, n_epochs=1, crit=loss, opt=opt, metrics=metrics)"
      ],
      "execution_count": 0,
      "outputs": [
        {
          "output_type": "display_data",
          "data": {
            "application/vnd.jupyter.widget-view+json": {
              "model_id": "5320b30e809e449185bad91f4c88c6e2",
              "version_minor": 0,
              "version_major": 2
            },
            "text/plain": [
              "HBox(children=(IntProgress(value=0, description='Epoch', max=1, style=ProgressStyle(description_width='initial…"
            ]
          },
          "metadata": {
            "tags": []
          }
        },
        {
          "output_type": "stream",
          "text": [
            "epoch      trn_loss   val_loss   accuracy   \n",
            "    0      0.29819    0.28337    0.9204    \n",
            "\n"
          ],
          "name": "stdout"
        },
        {
          "output_type": "execute_result",
          "data": {
            "text/plain": [
              "[array([0.28337]), 0.9204]"
            ]
          },
          "metadata": {
            "tags": []
          },
          "execution_count": 68
        }
      ]
    },
    {
      "cell_type": "code",
      "metadata": {
        "id": "_Pe98M4c6voG",
        "colab_type": "code",
        "colab": {}
      },
      "source": [
        "dl = iter(md.trn_dl)"
      ],
      "execution_count": 0,
      "outputs": []
    },
    {
      "cell_type": "code",
      "metadata": {
        "id": "Nc6TXX0f69ed",
        "colab_type": "code",
        "colab": {}
      },
      "source": [
        "xmb,ymb = next(dl)"
      ],
      "execution_count": 0,
      "outputs": []
    },
    {
      "cell_type": "code",
      "metadata": {
        "id": "9pB8RLJM7ApV",
        "colab_type": "code",
        "outputId": "dc5896b8-6f5b-4829-a8b4-1e3151acdc4e",
        "colab": {
          "base_uri": "https://localhost:8080/",
          "height": 173
        }
      },
      "source": [
        "vxmb = Variable(xmb.cuda())\n",
        "vxmb"
      ],
      "execution_count": 0,
      "outputs": [
        {
          "output_type": "execute_result",
          "data": {
            "text/plain": [
              "Variable containing:\n",
              "-0.4245 -0.4245 -0.4245  ...  -0.4245 -0.4245 -0.4245\n",
              "-0.4245 -0.4245 -0.4245  ...  -0.4245 -0.4245 -0.4245\n",
              "-0.4245 -0.4245 -0.4245  ...  -0.4245 -0.4245 -0.4245\n",
              "          ...             ⋱             ...          \n",
              "-0.4245 -0.4245 -0.4245  ...  -0.4245 -0.4245 -0.4245\n",
              "-0.4245 -0.4245 -0.4245  ...  -0.4245 -0.4245 -0.4245\n",
              "-0.4245 -0.4245 -0.4245  ...  -0.4245 -0.4245 -0.4245\n",
              "[torch.cuda.FloatTensor of size 64x784 (GPU 0)]"
            ]
          },
          "metadata": {
            "tags": []
          },
          "execution_count": 71
        }
      ]
    },
    {
      "cell_type": "code",
      "metadata": {
        "id": "6kh0-B9p7EOy",
        "colab_type": "code",
        "outputId": "6aa76b12-4f19-4412-d584-fd4114991924",
        "colab": {
          "base_uri": "https://localhost:8080/",
          "height": 225
        }
      },
      "source": [
        "preds = net2(vxmb).exp(); preds[:3]"
      ],
      "execution_count": 0,
      "outputs": [
        {
          "output_type": "execute_result",
          "data": {
            "text/plain": [
              "Variable containing:\n",
              "\n",
              "Columns 0 to 5 \n",
              " 2.2693e-04  1.6004e-06  3.4954e-04  3.2937e-02  3.9271e-03  2.8294e-02\n",
              " 8.9670e-05  1.2322e-01  8.0352e-01  5.2240e-03  4.3301e-03  4.2741e-04\n",
              " 1.6113e-06  4.2621e-07  4.4899e-07  3.9338e-05  4.0779e-07  5.7801e-06\n",
              "\n",
              "Columns 6 to 9 \n",
              " 2.0717e-05  9.3154e-01  9.9891e-05  2.5984e-03\n",
              " 6.0402e-02  7.7479e-04  1.8603e-03  1.4801e-04\n",
              " 2.3916e-09  9.9988e-01  2.1435e-05  5.4364e-05\n",
              "[torch.cuda.FloatTensor of size 3x10 (GPU 0)]"
            ]
          },
          "metadata": {
            "tags": []
          },
          "execution_count": 72
        }
      ]
    },
    {
      "cell_type": "code",
      "metadata": {
        "id": "nq9S3So47Iyv",
        "colab_type": "code",
        "colab": {}
      },
      "source": [
        "preds = preds.data.max(1)[1]; preds"
      ],
      "execution_count": 0,
      "outputs": []
    },
    {
      "cell_type": "code",
      "metadata": {
        "id": "Zn2Liy-O7Lm6",
        "colab_type": "code",
        "outputId": "f67a5bc6-0905-421f-a893-59ebd6612c32",
        "colab": {
          "base_uri": "https://localhost:8080/",
          "height": 389
        }
      },
      "source": [
        "preds = predict(net2, md.val_dl).argmax(1)\n",
        "plots(x_imgs[:8], titles=preds[:8])"
      ],
      "execution_count": 0,
      "outputs": [
        {
          "output_type": "display_data",
          "data": {
            "image/png": "[encoded data removed]",
            "text/plain": [
              "<matplotlib.figure.Figure at 0x7fcdd76455f8>"
            ]
          },
          "metadata": {
            "tags": []
          }
        }
      ]
    },
    {
      "cell_type": "code",
      "metadata": {
        "id": "zmo7Cs-S7ZlO",
        "colab_type": "code",
        "outputId": "ed9b81b7-9091-4282-fac9-3745001dcde3",
        "colab": {
          "base_uri": "https://localhost:8080/",
          "height": 35
        }
      },
      "source": [
        "np.mean(preds == y_valid)"
      ],
      "execution_count": 0,
      "outputs": [
        {
          "output_type": "execute_result",
          "data": {
            "text/plain": [
              "0.9204"
            ]
          },
          "metadata": {
            "tags": []
          },
          "execution_count": 77
        }
      ]
    },
    {
      "cell_type": "code",
      "metadata": {
        "id": "Y5Zwjkvv7mys",
        "colab_type": "code",
        "colab": {}
      },
      "source": [
        "'''\n",
        "The term broadcasting describes how numpy treats arrays with \n",
        "different shapes during arithmetic operations. Subject to certain \n",
        "constraints, the smaller array is “broadcast” across the larger \n",
        "array so that they have compatible shapes. Broadcasting provides a \n",
        "means of vectorizing array operations so that looping occurs in C\n",
        "instead of Python. It does this without making needless copies of \n",
        "data and usually leads to efficient algorithm implementations.\n",
        "'''"
      ],
      "execution_count": 0,
      "outputs": []
    },
    {
      "cell_type": "code",
      "metadata": {
        "id": "QyV8KtM583e1",
        "colab_type": "code",
        "outputId": "d295bdfe-b60c-481e-eba5-bee20079c1c4",
        "colab": {
          "base_uri": "https://localhost:8080/",
          "height": 69
        }
      },
      "source": [
        "m = np.array([[1, 2, 3], [4,5,6], [7,8,9]]); m"
      ],
      "execution_count": 0,
      "outputs": [
        {
          "output_type": "execute_result",
          "data": {
            "text/plain": [
              "array([[1, 2, 3],\n",
              "       [4, 5, 6],\n",
              "       [7, 8, 9]])"
            ]
          },
          "metadata": {
            "tags": []
          },
          "execution_count": 78
        }
      ]
    },
    {
      "cell_type": "code",
      "metadata": {
        "id": "or3oY_kX84AY",
        "colab_type": "code",
        "outputId": "9dff679f-8ee6-4d77-857a-9141207204bd",
        "colab": {
          "base_uri": "https://localhost:8080/",
          "height": 69
        }
      },
      "source": [
        "2*m"
      ],
      "execution_count": 0,
      "outputs": [
        {
          "output_type": "execute_result",
          "data": {
            "text/plain": [
              "array([[ 2,  4,  6],\n",
              "       [ 8, 10, 12],\n",
              "       [14, 16, 18]])"
            ]
          },
          "metadata": {
            "tags": []
          },
          "execution_count": 79
        }
      ]
    },
    {
      "cell_type": "code",
      "metadata": {
        "id": "rSiE-oYl86LC",
        "colab_type": "code",
        "outputId": "c715cccf-424d-4d0a-ce7d-faece1c743aa",
        "colab": {
          "base_uri": "https://localhost:8080/",
          "height": 35
        }
      },
      "source": [
        "c = np.array([10,20,30]); c"
      ],
      "execution_count": 0,
      "outputs": [
        {
          "output_type": "execute_result",
          "data": {
            "text/plain": [
              "array([10, 20, 30])"
            ]
          },
          "metadata": {
            "tags": []
          },
          "execution_count": 80
        }
      ]
    },
    {
      "cell_type": "code",
      "metadata": {
        "id": "BhDlw3cq87j3",
        "colab_type": "code",
        "outputId": "4c3b60e6-8e94-473c-efe4-8a54644b2266",
        "colab": {
          "base_uri": "https://localhost:8080/",
          "height": 69
        }
      },
      "source": [
        "m + c\n",
        "#We can also broadcast a vector to a matrix"
      ],
      "execution_count": 0,
      "outputs": [
        {
          "output_type": "execute_result",
          "data": {
            "text/plain": [
              "array([[11, 22, 33],\n",
              "       [14, 25, 36],\n",
              "       [17, 28, 39]])"
            ]
          },
          "metadata": {
            "tags": []
          },
          "execution_count": 81
        }
      ]
    },
    {
      "cell_type": "code",
      "metadata": {
        "id": "vTQmpVmd89QK",
        "colab_type": "code",
        "outputId": "fdd54acb-34cc-4d68-aef0-6a767ade6779",
        "colab": {
          "base_uri": "https://localhost:8080/",
          "height": 69
        }
      },
      "source": [
        "np.broadcast_to(c[:, None], m.shape)"
      ],
      "execution_count": 0,
      "outputs": [
        {
          "output_type": "execute_result",
          "data": {
            "text/plain": [
              "array([[10, 10, 10],\n",
              "       [20, 20, 20],\n",
              "       [30, 30, 30]])"
            ]
          },
          "metadata": {
            "tags": []
          },
          "execution_count": 82
        }
      ]
    },
    {
      "cell_type": "code",
      "metadata": {
        "id": "Fv66b0PK9F4u",
        "colab_type": "code",
        "outputId": "2c319a6c-44b7-4a90-808b-4e57d2540d5f",
        "colab": {
          "base_uri": "https://localhost:8080/",
          "height": 69
        }
      },
      "source": [
        "#The numpy expand_dims method lets us convert the 1-dimensional array c into a \n",
        "#2-dimensional array (although one of those dimensions has value 1).\n",
        "np.broadcast_to(np.expand_dims(c,0), (3,3))"
      ],
      "execution_count": 0,
      "outputs": [
        {
          "output_type": "execute_result",
          "data": {
            "text/plain": [
              "array([[10, 20, 30],\n",
              "       [10, 20, 30],\n",
              "       [10, 20, 30]])"
            ]
          },
          "metadata": {
            "tags": []
          },
          "execution_count": 83
        }
      ]
    },
    {
      "cell_type": "code",
      "metadata": {
        "id": "cKNxGvA99WQW",
        "colab_type": "code",
        "outputId": "75a09ce5-4dfd-43d3-8e83-7adac89d86c2",
        "colab": {
          "base_uri": "https://localhost:8080/",
          "height": 35
        }
      },
      "source": [
        "c.shape"
      ],
      "execution_count": 0,
      "outputs": [
        {
          "output_type": "execute_result",
          "data": {
            "text/plain": [
              "(3,)"
            ]
          },
          "metadata": {
            "tags": []
          },
          "execution_count": 84
        }
      ]
    },
    {
      "cell_type": "code",
      "metadata": {
        "id": "TY2m1FRC9Y1I",
        "colab_type": "code",
        "outputId": "212c1296-1a72-4d4e-8185-e6def5988e1f",
        "colab": {
          "base_uri": "https://localhost:8080/",
          "height": 35
        }
      },
      "source": [
        "np.expand_dims(c, 0).shape"
      ],
      "execution_count": 0,
      "outputs": [
        {
          "output_type": "execute_result",
          "data": {
            "text/plain": [
              "(1, 3)"
            ]
          },
          "metadata": {
            "tags": []
          },
          "execution_count": 85
        }
      ]
    },
    {
      "cell_type": "code",
      "metadata": {
        "id": "SoT2LKE89eHc",
        "colab_type": "code",
        "outputId": "a54c0f50-1e5c-402d-f3da-1a71ad313c0d",
        "colab": {
          "base_uri": "https://localhost:8080/",
          "height": 35
        }
      },
      "source": [
        "c[None]"
      ],
      "execution_count": 0,
      "outputs": [
        {
          "output_type": "execute_result",
          "data": {
            "text/plain": [
              "array([[10, 20, 30]])"
            ]
          },
          "metadata": {
            "tags": []
          },
          "execution_count": 86
        }
      ]
    },
    {
      "cell_type": "code",
      "metadata": {
        "id": "U1NgiXpy9lgr",
        "colab_type": "code",
        "outputId": "58f7ae73-705c-4f03-b0f3-319ad6f1175c",
        "colab": {
          "base_uri": "https://localhost:8080/",
          "height": 69
        }
      },
      "source": [
        "c[:,None]"
      ],
      "execution_count": 0,
      "outputs": [
        {
          "output_type": "execute_result",
          "data": {
            "text/plain": [
              "array([[10],\n",
              "       [20],\n",
              "       [30]])"
            ]
          },
          "metadata": {
            "tags": []
          },
          "execution_count": 87
        }
      ]
    },
    {
      "cell_type": "code",
      "metadata": {
        "id": "IQHfMYaJ9nBH",
        "colab_type": "code",
        "outputId": "4ae7e1c6-b40e-4d28-9f16-6a5ad53e848b",
        "colab": {
          "base_uri": "https://localhost:8080/",
          "height": 104
        }
      },
      "source": [
        "xg,yg = np.ogrid[0:5, 0:5]; xg,yg"
      ],
      "execution_count": 0,
      "outputs": [
        {
          "output_type": "execute_result",
          "data": {
            "text/plain": [
              "(array([[0],\n",
              "        [1],\n",
              "        [2],\n",
              "        [3],\n",
              "        [4]]), array([[0, 1, 2, 3, 4]]))"
            ]
          },
          "metadata": {
            "tags": []
          },
          "execution_count": 88
        }
      ]
    },
    {
      "cell_type": "code",
      "metadata": {
        "id": "Wj9ZiPDO9rGM",
        "colab_type": "code",
        "outputId": "354144ef-3980-4e4a-c59e-88c50a253202",
        "colab": {
          "base_uri": "https://localhost:8080/",
          "height": 104
        }
      },
      "source": [
        "xg+yg"
      ],
      "execution_count": 0,
      "outputs": [
        {
          "output_type": "execute_result",
          "data": {
            "text/plain": [
              "array([[0, 1, 2, 3, 4],\n",
              "       [1, 2, 3, 4, 5],\n",
              "       [2, 3, 4, 5, 6],\n",
              "       [3, 4, 5, 6, 7],\n",
              "       [4, 5, 6, 7, 8]])"
            ]
          },
          "metadata": {
            "tags": []
          },
          "execution_count": 89
        }
      ]
    },
    {
      "cell_type": "code",
      "metadata": {
        "id": "2Zh1Tl-v9x_A",
        "colab_type": "code",
        "outputId": "0304e5ac-1a8f-4a0f-d69f-4b89ed0e7c50",
        "colab": {
          "base_uri": "https://localhost:8080/",
          "height": 35
        }
      },
      "source": [
        "m @ c  # np.matmul(m, c)"
      ],
      "execution_count": 0,
      "outputs": [
        {
          "output_type": "execute_result",
          "data": {
            "text/plain": [
              "array([140, 320, 500])"
            ]
          },
          "metadata": {
            "tags": []
          },
          "execution_count": 90
        }
      ]
    },
    {
      "cell_type": "code",
      "metadata": {
        "id": "ZvPCNh6p_iCT",
        "colab_type": "code",
        "colab": {}
      },
      "source": [
        "'''\n",
        "From a machine learning perspective, matrix multiplication is a way of \n",
        "creating features by saying how much we want to weight each input column. \n",
        "Different features are different weighted averages of the input columns.\n",
        "'''"
      ],
      "execution_count": 0,
      "outputs": []
    },
    {
      "cell_type": "code",
      "metadata": {
        "id": "689wAN7cAAQR",
        "colab_type": "code",
        "colab": {}
      },
      "source": [
        "'''\n",
        "Above, we are using the fastai method fit to train our model. \n",
        "Now we will try writing the training loop ourselves.\n",
        "\n",
        "Review question: What does it mean to train a model?\n",
        "\n",
        "We will use the LogReg class we created, as well as the same loss function, \n",
        "learning rate, and optimizer as before:\n",
        "'''\n",
        "net2 = LogReg().cuda()\n",
        "loss=nn.NLLLoss()\n",
        "learning_rate = 1e-3\n",
        "optimizer=optim.Adam(net2.parameters(), lr=learning_rate)"
      ],
      "execution_count": 0,
      "outputs": []
    },
    {
      "cell_type": "code",
      "metadata": {
        "id": "IjSjOK6dAFYl",
        "colab_type": "code",
        "colab": {}
      },
      "source": [
        "'''\n",
        "md is the ImageClassifierData object we created above. We want an iterable \n",
        "version of our training data (question: what does it mean for something to be iterable?):\n",
        "'''\n",
        "dl = iter(md.trn_dl) # Data loader\n",
        "#First, we will do a forward pass, which means computing the predicted y by passing x to the model.\n",
        "\n",
        "xt, yt = next(dl)\n",
        "y_pred = net2(Variable(xt).cuda())"
      ],
      "execution_count": 0,
      "outputs": []
    },
    {
      "cell_type": "code",
      "metadata": {
        "id": "DFtrrIa_ASHt",
        "colab_type": "code",
        "outputId": "fabdf050-c95d-4347-f8da-9ee4422d9f80",
        "colab": {
          "base_uri": "https://localhost:8080/",
          "height": 87
        }
      },
      "source": [
        "l = loss(y_pred, Variable(yt).cuda())\n",
        "print(l)"
      ],
      "execution_count": 0,
      "outputs": [
        {
          "output_type": "stream",
          "text": [
            "Variable containing:\n",
            " 2.3087\n",
            "[torch.cuda.FloatTensor of size 1 (GPU 0)]\n",
            "\n"
          ],
          "name": "stdout"
        }
      ]
    },
    {
      "cell_type": "code",
      "metadata": {
        "id": "NPbBXo_uAVl3",
        "colab_type": "code",
        "colab": {}
      },
      "source": [
        "'''\n",
        "We may also be interested in the accuracy. We don't expect our first predictions \n",
        "to be very good, because the weights of our network were initialized to random \n",
        "values. Our goal is to see the loss decrease (and the accuracy increase) as we \n",
        "train the network:\n",
        "\n",
        "Now we will use the optimizer to calculate which direction to step in. That is, how should we update our weights to try to decrease the loss?\n",
        "\n",
        "Pytorch has an automatic differentiation package (autograd) that takes derivatives \n",
        "for us, so we don't have to calculate the derivative ourselves! We just call \n",
        ".backward() on our loss to \n",
        "calculate the direction of steepest descent (the direction to lower the loss the most).\n",
        "'''\n",
        "\n",
        "# Before the backward pass, use the optimizer object to zero all of the\n",
        "# gradients for the variables it will update (which are the learnable weights\n",
        "# of the model)\n",
        "optimizer.zero_grad()\n",
        "\n",
        "# Backward pass: compute gradient of the loss with respect to model parameters\n",
        "l.backward()\n",
        "\n",
        "# Calling the step function on an Optimizer makes an update to its parameters\n",
        "optimizer.step()\n"
      ],
      "execution_count": 0,
      "outputs": []
    },
    {
      "cell_type": "code",
      "metadata": {
        "id": "Vuusg_AxAy6Z",
        "colab_type": "code",
        "colab": {}
      },
      "source": [
        "xt, yt = next(dl)\n",
        "y_pred = net2(Variable(xt).cuda())"
      ],
      "execution_count": 0,
      "outputs": []
    },
    {
      "cell_type": "code",
      "metadata": {
        "id": "1MkrFxx1A-Kl",
        "colab_type": "code",
        "outputId": "61386dab-db4b-4397-d22a-c5a6c9e589ce",
        "colab": {
          "base_uri": "https://localhost:8080/",
          "height": 87
        }
      },
      "source": [
        "l = loss(y_pred, Variable(yt).cuda())\n",
        "print(l)"
      ],
      "execution_count": 0,
      "outputs": [
        {
          "output_type": "stream",
          "text": [
            "Variable containing:\n",
            " 2.2306\n",
            "[torch.cuda.FloatTensor of size 1 (GPU 0)]\n",
            "\n"
          ],
          "name": "stdout"
        }
      ]
    },
    {
      "cell_type": "code",
      "metadata": {
        "id": "SXiqMGfzBDgV",
        "colab_type": "code",
        "outputId": "a1e48228-86ef-424a-d928-4fc7a1bb5f87",
        "colab": {
          "base_uri": "https://localhost:8080/",
          "height": 35
        }
      },
      "source": [
        "'''\n",
        "Note that we are using stochastic gradient descent, so the loss is not guaranteed \n",
        "to be strictly better each time. The stochasticity comes from the fact that we are \n",
        "using mini-batches; we are just using 64 \n",
        "images to calculate our prediction and update the weights, not the whole dataset.\n",
        "'''\n",
        "np.mean(to_np(y_pred).argmax(axis=1) == to_np(yt))"
      ],
      "execution_count": 0,
      "outputs": [
        {
          "output_type": "execute_result",
          "data": {
            "text/plain": [
              "0.28125"
            ]
          },
          "metadata": {
            "tags": []
          },
          "execution_count": 99
        }
      ]
    },
    {
      "cell_type": "code",
      "metadata": {
        "id": "8EK4Z3CaBcdR",
        "colab_type": "code",
        "outputId": "c77159d2-a562-4aaa-df29-bbfa696ed63a",
        "colab": {
          "base_uri": "https://localhost:8080/",
          "height": 191
        }
      },
      "source": [
        "#Training loop\n",
        "\n",
        "#If we run several iterations in a loop, we should see the loss decrease and \n",
        "#the accuracy increase with time.\n",
        "for t in range(100):\n",
        "    xt, yt = next(dl)\n",
        "    y_pred = net2(Variable(xt).cuda())\n",
        "    l = loss(y_pred, Variable(yt).cuda())\n",
        "    \n",
        "    if t % 10 == 0:\n",
        "        accuracy = np.mean(to_np(y_pred).argmax(axis=1) == to_np(yt))\n",
        "        print(\"loss: \", l.data[0], \"\\t accuracy: \", accuracy)\n",
        "\n",
        "    optimizer.zero_grad()\n",
        "    l.backward()\n",
        "    optimizer.step()\n",
        "    \n"
      ],
      "execution_count": 0,
      "outputs": [
        {
          "output_type": "stream",
          "text": [
            "loss:  0.48675015568733215 \t accuracy:  0.890625\n",
            "loss:  0.517317533493042 \t accuracy:  0.8125\n",
            "loss:  0.35944971442222595 \t accuracy:  0.890625\n",
            "loss:  0.44264039397239685 \t accuracy:  0.859375\n",
            "loss:  0.6170780062675476 \t accuracy:  0.8125\n",
            "loss:  0.3230590522289276 \t accuracy:  0.921875\n",
            "loss:  0.39464184641838074 \t accuracy:  0.875\n",
            "loss:  0.2987366318702698 \t accuracy:  0.90625\n",
            "loss:  0.5802769064903259 \t accuracy:  0.90625\n",
            "loss:  0.41924986243247986 \t accuracy:  0.859375\n"
          ],
          "name": "stdout"
        }
      ]
    },
    {
      "cell_type": "code",
      "metadata": {
        "id": "9hSOINiNCOZv",
        "colab_type": "code",
        "colab": {}
      },
      "source": [
        "def score(x, y):\n",
        "    y_pred = to_np(net2(V(x)))\n",
        "    return np.sum(y_pred.argmax(axis=1) == to_np(y))/len(y_pred)"
      ],
      "execution_count": 0,
      "outputs": []
    },
    {
      "cell_type": "code",
      "metadata": {
        "id": "xDCBThgxC271",
        "colab_type": "code",
        "outputId": "54cb344e-bfb7-4955-f1f2-e9cb18d7a97b",
        "colab": {
          "base_uri": "https://localhost:8080/",
          "height": 235
        }
      },
      "source": [
        "net2 = LogReg().cuda()\n",
        "loss=nn.NLLLoss()\n",
        "learning_rate = 1e-2\n",
        "optimizer=optim.SGD(net2.parameters(), lr=learning_rate)\n",
        "\n",
        "for epoch in range(1):\n",
        "    losses=[]\n",
        "    dl = iter(md.trn_dl)\n",
        "    for t in range(len(dl)):\n",
        "        # Forward pass: compute predicted y and loss by passing x to the model.\n",
        "        xt, yt = next(dl)\n",
        "        y_pred = net2(V(xt))\n",
        "        l = loss(y_pred, V(yt))\n",
        "        losses.append(l)\n",
        "\n",
        "        # Before the backward pass, use the optimizer object to zero all of the\n",
        "        # gradients for the variables it will update (which are the learnable weights of the model)\n",
        "        optimizer.zero_grad()\n",
        "\n",
        "        # Backward pass: compute gradient of the loss with respect to model parameters\n",
        "        l.backward()\n",
        "\n",
        "        # Calling the step function on an Optimizer makes an update to its parameters\n",
        "        optimizer.step()\n",
        "    \n",
        "    val_dl = iter(md.val_dl)\n",
        "    val_scores = [score(*next(val_dl)) for i in range(len(val_dl))]\n",
        "    print(np.mean(val_scores))"
      ],
      "execution_count": 0,
      "outputs": [
        {
          "output_type": "error",
          "ename": "TypeError",
          "evalue": "ignored",
          "traceback": [
            "\u001b[0;31m---------------------------------------------------------------------------\u001b[0m",
            "\u001b[0;31mTypeError\u001b[0m                                 Traceback (most recent call last)",
            "\u001b[0;32m<ipython-input-111-f0750c13cdd4>\u001b[0m in \u001b[0;36m<module>\u001b[0;34m()\u001b[0m\n\u001b[1;32m      7\u001b[0m     \u001b[0mlosses\u001b[0m\u001b[0;34m=\u001b[0m\u001b[0;34m[\u001b[0m\u001b[0;34m]\u001b[0m\u001b[0;34m\u001b[0m\u001b[0m\n\u001b[1;32m      8\u001b[0m     \u001b[0mdl\u001b[0m \u001b[0;34m=\u001b[0m \u001b[0miter\u001b[0m\u001b[0;34m(\u001b[0m\u001b[0mmd\u001b[0m\u001b[0;34m.\u001b[0m\u001b[0mtrn_dl\u001b[0m\u001b[0;34m)\u001b[0m\u001b[0;34m\u001b[0m\u001b[0m\n\u001b[0;32m----> 9\u001b[0;31m     \u001b[0;32mfor\u001b[0m \u001b[0mt\u001b[0m \u001b[0;32min\u001b[0m \u001b[0mrange\u001b[0m\u001b[0;34m(\u001b[0m\u001b[0mlist\u001b[0m\u001b[0;34m(\u001b[0m\u001b[0mlen\u001b[0m\u001b[0;34m(\u001b[0m\u001b[0mdl\u001b[0m\u001b[0;34m)\u001b[0m\u001b[0;34m)\u001b[0m\u001b[0;34m)\u001b[0m\u001b[0;34m:\u001b[0m\u001b[0;34m\u001b[0m\u001b[0m\n\u001b[0m\u001b[1;32m     10\u001b[0m         \u001b[0;31m# Forward pass: compute predicted y and loss by passing x to the model.\u001b[0m\u001b[0;34m\u001b[0m\u001b[0;34m\u001b[0m\u001b[0m\n\u001b[1;32m     11\u001b[0m         \u001b[0mxt\u001b[0m\u001b[0;34m,\u001b[0m \u001b[0myt\u001b[0m \u001b[0;34m=\u001b[0m \u001b[0mnext\u001b[0m\u001b[0;34m(\u001b[0m\u001b[0mdl\u001b[0m\u001b[0;34m)\u001b[0m\u001b[0;34m\u001b[0m\u001b[0m\n",
            "\u001b[0;31mTypeError\u001b[0m: object of type 'generator' has no len()"
          ]
        }
      ]
    },
    {
      "cell_type": "code",
      "metadata": {
        "id": "5D_GmICID3GX",
        "colab_type": "code",
        "outputId": "0ab1273e-b061-46c7-d28d-8da582b7fb26",
        "colab": {
          "base_uri": "https://localhost:8080/",
          "height": 235
        }
      },
      "source": [
        "net2 = LogReg().cuda()\n",
        "loss_fn=nn.NLLLoss()\n",
        "lr = 1e-2\n",
        "w,b = net2.l1_w,net2.l1_b\n",
        "\n",
        "for epoch in range(1):\n",
        "    losses=[]\n",
        "    dl = iter(md.trn_dl)\n",
        "    for t in range(len(dl)):\n",
        "        xt, yt = next(dl)\n",
        "        y_pred = net2(V(xt))\n",
        "        l = loss(y_pred, Variable(yt).cuda())\n",
        "        losses.append(loss)\n",
        "\n",
        "        # Backward pass: compute gradient of the loss with respect to model parameters\n",
        "        l.backward()\n",
        "        w.data -= w.grad.data * lr\n",
        "        b.data -= b.grad.data * lr\n",
        "        \n",
        "        w.grad.data.zero_()\n",
        "        b.grad.data.zero_()   \n",
        "\n",
        "    val_dl = iter(md.val_dl)\n",
        "    val_scores = [score(*next(val_dl)) for i in range(len(val_dl))]\n",
        "    print(np.mean(val_scores))"
      ],
      "execution_count": 0,
      "outputs": [
        {
          "output_type": "error",
          "ename": "TypeError",
          "evalue": "ignored",
          "traceback": [
            "\u001b[0;31m---------------------------------------------------------------------------\u001b[0m",
            "\u001b[0;31mTypeError\u001b[0m                                 Traceback (most recent call last)",
            "\u001b[0;32m<ipython-input-112-ba9af86e4308>\u001b[0m in \u001b[0;36m<module>\u001b[0;34m()\u001b[0m\n\u001b[1;32m      7\u001b[0m     \u001b[0mlosses\u001b[0m\u001b[0;34m=\u001b[0m\u001b[0;34m[\u001b[0m\u001b[0;34m]\u001b[0m\u001b[0;34m\u001b[0m\u001b[0m\n\u001b[1;32m      8\u001b[0m     \u001b[0mdl\u001b[0m \u001b[0;34m=\u001b[0m \u001b[0miter\u001b[0m\u001b[0;34m(\u001b[0m\u001b[0mmd\u001b[0m\u001b[0;34m.\u001b[0m\u001b[0mtrn_dl\u001b[0m\u001b[0;34m)\u001b[0m\u001b[0;34m\u001b[0m\u001b[0m\n\u001b[0;32m----> 9\u001b[0;31m     \u001b[0;32mfor\u001b[0m \u001b[0mt\u001b[0m \u001b[0;32min\u001b[0m \u001b[0mrange\u001b[0m\u001b[0;34m(\u001b[0m\u001b[0mlen\u001b[0m\u001b[0;34m(\u001b[0m\u001b[0mdl\u001b[0m\u001b[0;34m)\u001b[0m\u001b[0;34m)\u001b[0m\u001b[0;34m:\u001b[0m\u001b[0;34m\u001b[0m\u001b[0m\n\u001b[0m\u001b[1;32m     10\u001b[0m         \u001b[0mxt\u001b[0m\u001b[0;34m,\u001b[0m \u001b[0myt\u001b[0m \u001b[0;34m=\u001b[0m \u001b[0mnext\u001b[0m\u001b[0;34m(\u001b[0m\u001b[0mdl\u001b[0m\u001b[0;34m)\u001b[0m\u001b[0;34m\u001b[0m\u001b[0m\n\u001b[1;32m     11\u001b[0m         \u001b[0my_pred\u001b[0m \u001b[0;34m=\u001b[0m \u001b[0mnet2\u001b[0m\u001b[0;34m(\u001b[0m\u001b[0mV\u001b[0m\u001b[0;34m(\u001b[0m\u001b[0mxt\u001b[0m\u001b[0;34m)\u001b[0m\u001b[0;34m)\u001b[0m\u001b[0;34m\u001b[0m\u001b[0m\n",
            "\u001b[0;31mTypeError\u001b[0m: object of type 'generator' has no len()"
          ]
        }
      ]
    },
    {
      "cell_type": "code",
      "metadata": {
        "id": "l4nYQDzJFE4-",
        "colab_type": "code",
        "colab": {}
      },
      "source": [
        ""
      ],
      "execution_count": 0,
      "outputs": []
    }
  ]
}